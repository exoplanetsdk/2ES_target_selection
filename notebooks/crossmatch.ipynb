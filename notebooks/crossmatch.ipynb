{
 "cells": [
  {
   "cell_type": "code",
   "execution_count": 2,
   "id": "b8b753d9",
   "metadata": {},
   "outputs": [],
   "source": [
    "import sys\n",
    "import os\n",
    "sys.path.append('../src')\n",
    "\n",
    "import pandas as pd\n",
    "import matplotlib.pyplot as plt\n",
    "import numpy as np\n",
    "from utils import save_and_adjust_column_widths\n",
    "\n",
    "\n",
    "# Read the two files\n",
    "Ralf_list = pd.read_excel('../data/2ES_targetlist_2025_Apr_suited.xlsx', \n",
    "                      dtype={'source_id': str, 'source_id_dr2': str, 'source_id_dr3': str, 'HIP Number': str})\n",
    "\n",
    "Target_list = pd.read_excel('../results/Gaia_homogeneous_target_selection_2025.09.08_100_granulation.xlsx', \n",
    "                      dtype={'source_id': str, 'source_id_dr2': str, 'source_id_dr3': str, 'HIP Number': str})"
   ]
  },
  {
   "cell_type": "code",
   "execution_count": 3,
   "id": "bc6013a1",
   "metadata": {},
   "outputs": [],
   "source": [
    "Ralf_list = Ralf_list[Ralf_list['prio'] == 1]"
   ]
  },
  {
   "cell_type": "code",
   "execution_count": 4,
   "id": "464abc8d",
   "metadata": {},
   "outputs": [
    {
     "name": "stdout",
     "output_type": "stream",
     "text": [
      "Results saved to ../results/Ralf_list_prio1.xlsx\n"
     ]
    }
   ],
   "source": [
    "save_and_adjust_column_widths(Ralf_list, '../results/Ralf_list_prio1.xlsx')"
   ]
  },
  {
   "cell_type": "code",
   "execution_count": 5,
   "id": "535c3a39",
   "metadata": {},
   "outputs": [],
   "source": [
    "Target_list['HD Number'] = Target_list['HD Number'].astype(str).str.replace(r'^HD\\s+(\\d+)$', r'HD\\1', regex=True)\n",
    "Target_list['GJ Number'] = Target_list['GJ Number'].astype(str).str.replace(r'^GJ\\s+(\\d+)$', r'GJ\\1', regex=True)\n"
   ]
  },
  {
   "cell_type": "code",
   "execution_count": 6,
   "id": "ad1fb010",
   "metadata": {},
   "outputs": [],
   "source": [
    "# Crossmatch Ralf_list with Target_list using \"star_ID\" and append Target_list info\n",
    "\n",
    "# First, create a copy to avoid SettingWithCopyWarning\n",
    "Ralf_list_matched = Ralf_list.copy()\n",
    "\n",
    "# Prepare a column to store the index of the matched row in Target_list\n",
    "matched_indices = []\n",
    "\n",
    "# Iterate through Ralf_list to find matches in Target_list\n",
    "for idx, row in Ralf_list_matched.iterrows():\n",
    "    star_id = str(row['star_ID  '])\n",
    "    if star_id.startswith('HD'):\n",
    "        match = Target_list[Target_list['HD Number'] == star_id]\n",
    "    elif star_id.startswith('GJ'):\n",
    "        match = Target_list[Target_list['GJ Number'] == star_id]\n",
    "    else:\n",
    "        match = pd.DataFrame()  # No match if not HD or GJ\n",
    "\n",
    "    if not match.empty:\n",
    "        # If multiple matches, take the first one\n",
    "        matched_indices.append(match.index[0])\n",
    "    else:\n",
    "        matched_indices.append(np.nan)\n",
    "\n",
    "# Add the matched indices to Ralf_list_matched\n",
    "Ralf_list_matched['Target_list_index'] = matched_indices\n",
    "\n",
    "# Merge the information from Target_list into Ralf_list_matched\n",
    "# Only append columns from Target_list that are not already in Ralf_list\n",
    "target_cols_to_add = [col for col in Target_list.columns if col not in Ralf_list_matched.columns]\n",
    "\n",
    "for col in target_cols_to_add:\n",
    "    Ralf_list_matched[col] = Ralf_list_matched['Target_list_index'].apply(\n",
    "        lambda i: Target_list.at[i, col] if pd.notnull(i) else np.nan\n",
    "    )\n",
    "\n",
    "# Drop the helper index column\n",
    "Ralf_list_matched = Ralf_list_matched.drop(columns=['Target_list_index'])\n",
    "\n",
    "# Now Ralf_list_matched contains the appended information from Target_list"
   ]
  },
  {
   "cell_type": "code",
   "execution_count": 7,
   "id": "88d20c3f",
   "metadata": {},
   "outputs": [
    {
     "name": "stdout",
     "output_type": "stream",
     "text": [
      "Results saved to ../results/Ralf_list_matched.xlsx\n"
     ]
    }
   ],
   "source": [
    "save_and_adjust_column_widths(Ralf_list_matched, '../results/Ralf_list_matched.xlsx') "
   ]
  },
  {
   "cell_type": "code",
   "execution_count": 11,
   "id": "ef3c5937",
   "metadata": {},
   "outputs": [
    {
     "name": "stdout",
     "output_type": "stream",
     "text": [
      "Results saved to ../results/Ralf_list_matched_high_score.xlsx\n"
     ]
    }
   ],
   "source": [
    "Ralf_list_matched_high_score = Ralf_list_matched[\n",
    "    (Ralf_list_matched['sum_score'] > 0) & \n",
    "    (Ralf_list_matched['activity_noise_floor [m/s]'] < 3)\n",
    "]\n",
    "save_and_adjust_column_widths(Ralf_list_matched_high_score, '../results/Ralf_list_matched_high_score.xlsx') "
   ]
  },
  {
   "cell_type": "code",
   "execution_count": 12,
   "id": "0c88e91b",
   "metadata": {},
   "outputs": [
    {
     "name": "stdout",
     "output_type": "stream",
     "text": [
      "Results saved to ../results/Ralf_list_matched_0_score.xlsx\n"
     ]
    }
   ],
   "source": [
    "Ralf_list_matched_high_score = Ralf_list_matched[\n",
    "    (Ralf_list_matched['sum_score'] == 0) & \n",
    "    (Ralf_list_matched['activity_noise_floor [m/s]'] < 3)\n",
    "]\n",
    "save_and_adjust_column_widths(Ralf_list_matched_high_score, '../results/Ralf_list_matched_0_score.xlsx') "
   ]
  },
  {
   "cell_type": "code",
   "execution_count": null,
   "id": "e1710265",
   "metadata": {},
   "outputs": [],
   "source": []
  }
 ],
 "metadata": {
  "kernelspec": {
   "display_name": "2ES",
   "language": "python",
   "name": "python3"
  },
  "language_info": {
   "codemirror_mode": {
    "name": "ipython",
    "version": 3
   },
   "file_extension": ".py",
   "mimetype": "text/x-python",
   "name": "python",
   "nbconvert_exporter": "python",
   "pygments_lexer": "ipython3",
   "version": "3.13.2"
  }
 },
 "nbformat": 4,
 "nbformat_minor": 5
}
