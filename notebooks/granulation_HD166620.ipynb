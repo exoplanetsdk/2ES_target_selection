{
 "cells": [
  {
   "cell_type": "code",
   "execution_count": 1,
   "id": "ef3c5937",
   "metadata": {},
   "outputs": [],
   "source": [
    "SOLAR_T_EFF = 5780.0  # K - Solar effective temperature\n",
    "SOLAR_MASS = 1.0      # Solar masses\n",
    "SOLAR_LUMINOSITY = 1.0  # Solar luminosities\n",
    "SOLAR_GRANULATION_RMS = 0.333  # m/s - Solar granulation RMS (excluding supergranulation)\n",
    "# SOLAR_GRANULATION_RMS = 0.8  # m/s - Solar granulation RMS (excluding supergranulation)\n",
    "\n",
    "def calculate_granulation_noise(T_eff, mass, luminosity):\n",
    "    \"\"\"\n",
    "    Calculate granulation noise using Kjeldsen & Bedding (2011) scaling relation.\n",
    "    \n",
    "    Parameters:\n",
    "    -----------\n",
    "    T_eff : float\n",
    "        Effective temperature in Kelvin\n",
    "    mass : float  \n",
    "        Stellar mass in solar masses\n",
    "    luminosity : float\n",
    "        Stellar luminosity in solar luminosities\n",
    "        \n",
    "    Returns:\n",
    "    --------\n",
    "    float\n",
    "        Granulation noise in m/s\n",
    "    \"\"\"\n",
    "    if T_eff is None or mass is None or luminosity is None or T_eff <= 0 or mass <= 0 or luminosity <= 0:\n",
    "        return np.nan\n",
    "    \n",
    "    # Kjeldsen & Bedding (2011) scaling relation\n",
    "    # σ_gran ∝ (L/L_sun)^(1/2) * (M/M_sun)^(-1) * (T_eff/T_eff_sun)^(-1/2)\n",
    "    \n",
    "    luminosity_factor = (luminosity / SOLAR_LUMINOSITY) ** 0.5\n",
    "    mass_factor = (mass / SOLAR_MASS) ** (-1.0)\n",
    "    temperature_factor = (T_eff / SOLAR_T_EFF) ** (-0.5)\n",
    "    \n",
    "    granulation_noise = SOLAR_GRANULATION_RMS * luminosity_factor * mass_factor * temperature_factor\n",
    "    \n",
    "    return granulation_noise"
   ]
  },
  {
   "cell_type": "code",
   "execution_count": null,
   "id": "deb923dd",
   "metadata": {},
   "outputs": [
    {
     "data": {
      "text/plain": [
       "0.2753878007314442"
      ]
     },
     "execution_count": 2,
     "metadata": {},
     "output_type": "execute_result"
    }
   ],
   "source": [
    "calculate_granulation_noise(4989, 0.77, 0.35)"
   ]
  },
  {
   "cell_type": "code",
   "execution_count": null,
   "id": "59297348",
   "metadata": {},
   "outputs": [],
   "source": []
  }
 ],
 "metadata": {
  "kernelspec": {
   "display_name": "2ES",
   "language": "python",
   "name": "python3"
  },
  "language_info": {
   "codemirror_mode": {
    "name": "ipython",
    "version": 3
   },
   "file_extension": ".py",
   "mimetype": "text/x-python",
   "name": "python",
   "nbconvert_exporter": "python",
   "pygments_lexer": "ipython3",
   "version": "3.13.2"
  }
 },
 "nbformat": 4,
 "nbformat_minor": 5
}
