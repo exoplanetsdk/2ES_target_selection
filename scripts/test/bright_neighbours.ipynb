{
 "cells": [
  {
   "cell_type": "code",
   "execution_count": 1,
   "metadata": {},
   "outputs": [],
   "source": [
    "from astroquery.gaia import Gaia\n",
    "\n",
    "import numpy as np\n",
    "import pandas as pd\n",
    "import sys\n",
    "sys.path.append('/Users/jinzhao/Documents/GitHub/2ES_target_selection/scripts/')\n",
    "from query import *"
   ]
  },
  {
   "cell_type": "code",
   "execution_count": 2,
   "metadata": {},
   "outputs": [],
   "source": [
    "# Query parameters\n",
    "TARGET_G_MAG_LIMIT = 12  # gs.phot_g_mean_mag < TARGET_G_MAG_LIMIT\n",
    "NEIGHBOR_G_MAG_LIMIT = 15  # neighbors.phot_g_mean_mag < NEIGHBOR_G_MAG_LIMIT\n",
    "MIN_DEC = -85  # gs.dec >= MIN_DEC\n",
    "MAX_DEC = 30  # gs.dec <= MAX_DEC\n",
    "MIN_PARALLAX = 20  # gs.parallax >= MIN_PARALLAX (MAX_DISTANCE = 1000/MIN_PARALLAX)"
   ]
  },
  {
   "cell_type": "code",
   "execution_count": 3,
   "metadata": {},
   "outputs": [],
   "source": [
    "query_all_stars = f\"\"\"\n",
    "SELECT gs.source_id AS dr2_source_id,\n",
    "    gs.ra, \n",
    "    gs.dec, \n",
    "    gs.phot_g_mean_mag, \n",
    "    gs.phot_bp_mean_mag, \n",
    "    gs.phot_rp_mean_mag, \n",
    "    gs.bp_rp, \n",
    "    gs.parallax\n",
    "FROM gaiadr2.gaia_source AS gs\n",
    "WHERE gs.phot_g_mean_mag < {TARGET_G_MAG_LIMIT}\n",
    "    AND gs.dec BETWEEN {MIN_DEC} AND {MAX_DEC}\n",
    "    AND gs.parallax >= {MIN_PARALLAX} \n",
    "\"\"\"\n",
    "\n",
    "no_bright_neighbor_query = f\"\"\"\n",
    "SELECT \n",
    "    gs.source_id, \n",
    "    gs.ra, \n",
    "    gs.dec, \n",
    "    gs.phot_g_mean_mag\n",
    "FROM \n",
    "    gaiadr2.gaia_source AS gs\n",
    "WHERE \n",
    "    gs.phot_g_mean_mag < {TARGET_G_MAG_LIMIT}\n",
    "    AND gs.dec BETWEEN {MIN_DEC} AND {MAX_DEC}\n",
    "    AND gs.parallax >= {MIN_PARALLAX}\n",
    "    AND NOT EXISTS (\n",
    "        SELECT 1\n",
    "        FROM gaiadr2.gaia_source AS neighbors\n",
    "        WHERE \n",
    "            1=CONTAINS(\n",
    "                POINT('ICRS', gs.ra, gs.dec),\n",
    "                CIRCLE('ICRS', neighbors.ra, neighbors.dec, 2/3600.0)\n",
    "            )\n",
    "            AND neighbors.phot_g_mean_mag < {NEIGHBOR_G_MAG_LIMIT}\n",
    "            AND gs.source_id != neighbors.source_id\n",
    "    )\n",
    "\"\"\"\n",
    "\n",
    "bright_neighbor_query = f\"\"\"\n",
    "SELECT \n",
    "    gs.source_id, \n",
    "    gs.ra, \n",
    "    gs.dec, \n",
    "    gs.phot_g_mean_mag, \n",
    "    neighbors.source_id AS neighbor_id,\n",
    "    neighbors.phot_g_mean_mag AS neighbor_mag,\n",
    "    DISTANCE(\n",
    "        POINT('ICRS', gs.ra, gs.dec), \n",
    "        POINT('ICRS', neighbors.ra, neighbors.dec)\n",
    "    ) AS angular_distance\n",
    "FROM \n",
    "    gaiadr2.gaia_source AS gs\n",
    "JOIN \n",
    "    gaiadr2.gaia_source AS neighbors\n",
    "ON \n",
    "    1=CONTAINS(\n",
    "        POINT('ICRS', gs.ra, gs.dec),\n",
    "        CIRCLE('ICRS', neighbors.ra, neighbors.dec, 2/3600.0)\n",
    "    )\n",
    "WHERE \n",
    "    gs.phot_g_mean_mag < {TARGET_G_MAG_LIMIT}\n",
    "    AND gs.dec BETWEEN {MIN_DEC} AND {MAX_DEC}\n",
    "    AND gs.parallax >= {MIN_PARALLAX}\n",
    "    AND neighbors.phot_g_mean_mag < {NEIGHBOR_G_MAG_LIMIT}\n",
    "    AND gs.source_id != neighbors.source_id\n",
    "\"\"\"\n",
    "\n",
    "# ... rest of the code remains the same ..."
   ]
  },
  {
   "cell_type": "code",
   "execution_count": 4,
   "metadata": {},
   "outputs": [
    {
     "name": "stdout",
     "output_type": "stream",
     "text": [
      "An error occurred: [Errno 60] Operation timed out\n"
     ]
    }
   ],
   "source": [
    "\n",
    "\n",
    "if 0: # For the all stars query\n",
    "    df_all_stars = execute_gaia_query(\n",
    "        query_all_stars,\n",
    "        str_columns=['dr2_source_id'],\n",
    "        output_file='all_stars_dr2.xlsx'\n",
    "    )\n",
    "\n",
    "if 1: # For the no bright neighbor query\n",
    "    df_no_bright_neighbor = execute_gaia_query(\n",
    "        no_bright_neighbor_query,\n",
    "        str_columns=['source_id'],\n",
    "        output_file='no_bright_neighbor_results.xlsx'\n",
    "    )\n",
    "\n",
    "if 0: # For the bright neighbor query\n",
    "    df_bright_neighbor = execute_gaia_query(\n",
    "        bright_neighbor_query,\n",
    "        str_columns=['source_id', 'neighbor_id'],\n",
    "        output_file='bright_neighbor_results.xlsx'\n",
    "    )"
   ]
  },
  {
   "cell_type": "code",
   "execution_count": null,
   "metadata": {},
   "outputs": [],
   "source": []
  }
 ],
 "metadata": {
  "kernelspec": {
   "display_name": "tf",
   "language": "python",
   "name": "python3"
  },
  "language_info": {
   "codemirror_mode": {
    "name": "ipython",
    "version": 3
   },
   "file_extension": ".py",
   "mimetype": "text/x-python",
   "name": "python",
   "nbconvert_exporter": "python",
   "pygments_lexer": "ipython3",
   "version": "3.11.8"
  }
 },
 "nbformat": 4,
 "nbformat_minor": 2
}
