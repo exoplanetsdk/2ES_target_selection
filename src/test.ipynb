{
 "cells": [
  {
   "cell_type": "code",
   "execution_count": 1,
   "id": "a0d5645b",
   "metadata": {},
   "outputs": [
    {
     "name": "stdout",
     "output_type": "stream",
     "text": [
      "\n",
      "Initializing 2ES Target Selection Pipeline...\n"
     ]
    }
   ],
   "source": [
    "print('\\nInitializing 2ES Target Selection Pipeline...')\n",
    "\n",
    "from config import *\n",
    "from gaia_queries import *\n",
    "from data_processing import *\n",
    "from plotting import *\n",
    "from stellar_calculations import *\n",
    "from utils import *\n",
    "from catalog_integration import CatalogProcessor\n",
    "from filtering import filter_stellar_data\n",
    "from gaia_tess_overlap import match_gaia_tess, save_overlapping_stars"
   ]
  },
  {
   "cell_type": "code",
   "execution_count": 2,
   "id": "f55a40ab",
   "metadata": {},
   "outputs": [
    {
     "name": "stdout",
     "output_type": "stream",
     "text": [
      "\n",
      "Querying stars from Gaia DR2\n",
      "9463 stars retrieved\n",
      "Query results saved to ../results/dr2_results.xlsx\n",
      "\n",
      "Crossmatching stellar IDs between Gaia DR2 and DR3\n",
      "10053 stars retrieved\n",
      "Query results saved to ../results/dr2_dr3_crossmatch.xlsx\n",
      "\n",
      "Querying stars from Gaia DR3\n",
      "9157 stars retrieved\n",
      "Query results saved to ../results/dr3_results.xlsx\n"
     ]
    }
   ],
   "source": [
    "# Execute DR2 query\n",
    "df_dr2 = execute_gaia_query(\n",
    "    get_dr2_query(),\n",
    "    str_columns=['source_id'],\n",
    "    output_file=f\"{RESULTS_DIRECTORY}dr2_results.xlsx\"\n",
    ")\n",
    "\n",
    "# Execute crossmatch query\n",
    "dr2_source_ids = tuple(df_dr2['source_id'])\n",
    "df_crossmatch = execute_gaia_query(\n",
    "    get_crossmatch_query(dr2_source_ids),\n",
    "    str_columns=['dr2_source_id', 'dr3_source_id'],\n",
    "    output_file=f\"{RESULTS_DIRECTORY}dr2_dr3_crossmatch.xlsx\"\n",
    ")\n",
    "\n",
    "# Execute DR3 query\n",
    "df_dr3 = execute_gaia_query(\n",
    "    get_dr3_query(),\n",
    "    str_columns=['source_id'],\n",
    "    output_file=f\"{RESULTS_DIRECTORY}dr3_results.xlsx\"\n",
    ")\n",
    "\n"
   ]
  },
  {
   "cell_type": "code",
   "execution_count": 3,
   "id": "7c30104b",
   "metadata": {},
   "outputs": [
    {
     "name": "stdout",
     "output_type": "stream",
     "text": [
      "\n",
      "Merging Gaia DR2 and DR3 data with crossmatch information\n",
      "Results saved to ../results/merged_results.xlsx\n",
      "\n",
      "Cleaning merged results by removing duplicate dr2_source_id entries\n",
      "Results saved to ../results/repeated_entries.xlsx\n",
      "\n",
      "Processing repeated entries with the same dr2_source_id\n",
      "Results saved to ../results/clean_merged_results.xlsx\n",
      "Results saved to ../results/removed_rows.xlsx\n",
      "Original shape of merged_results: (10319, 29)\n",
      "Shape after removing duplicates: (9727, 29)\n",
      "Number of rows removed: 592\n"
     ]
    }
   ],
   "source": [
    "# Process and clean data\n",
    "merged_results = process_gaia_data(df_dr2, df_dr3, df_crossmatch)\n",
    "clean_results = clean_merged_results(merged_results)\n"
   ]
  },
  {
   "cell_type": "code",
   "execution_count": 4,
   "id": "df5fb943",
   "metadata": {},
   "outputs": [
    {
     "name": "stdout",
     "output_type": "stream",
     "text": [
      "\n",
      "Consolidating data between DR2 and DR3\n",
      "Merging the following columns between DR2 and DR3: ra, dec, phot_g_mean_mag, phot_bp_mean_mag, phot_rp_mean_mag, parallax, logg_gaia, spectraltype_esphs\n",
      "Processing temperature\n",
      "Processing the following columns: mass_flame, lum_flame, radius_flame, spectraltype_esphs\n",
      "Adding bp_rp column\n"
     ]
    },
    {
     "name": "stderr",
     "output_type": "stream",
     "text": [
      "Retrieving HD, GJ and HIP numbers and object type from Simbad based on Gaia identifiers: 100%|██████████| 100/100 [00:16<00:00,  5.97it/s]"
     ]
    },
    {
     "name": "stdout",
     "output_type": "stream",
     "text": [
      "Renaming columns\n",
      "Results saved to ../results/consolidated_results.xlsx\n",
      "Total number of stars: 100\n",
      "Number of stars with DR3 source_id: 93\n",
      "Number of stars with only DR2 source_id: 7\n",
      "Number of stars with HD Number: 46\n",
      "Number of stars with GJ Number: 22\n",
      "Number of stars with HIP Number: 52\n"
     ]
    },
    {
     "name": "stderr",
     "output_type": "stream",
     "text": [
      "\n"
     ]
    }
   ],
   "source": [
    "consolidated_results = consolidate_data(clean_results[:100])"
   ]
  },
  {
   "cell_type": "code",
   "execution_count": null,
   "id": "f2e5e021",
   "metadata": {},
   "outputs": [
    {
     "name": "stdout",
     "output_type": "stream",
     "text": [
      "\n",
      "Filling missing T_eff and Luminosity from CELESTA catalog using HIP numbers\n",
      "Results saved to ../results/consolidated_HIP_results.xlsx\n",
      "\n",
      "Filling missing T_eff, Luminosity and Mass from Vizier V/117A using HD numbers\n"
     ]
    },
    {
     "name": "stderr",
     "output_type": "stream",
     "text": [
      "Progress: 100%|███████████████████████████████████████████████| 100/100 [00:00<00:00, 352166.58it/s]\n"
     ]
    },
    {
     "name": "stdout",
     "output_type": "stream",
     "text": [
      "Results saved to ../results/consolidated_HD_results.xlsx\n",
      "\n",
      "Getting empirical stellar parameters\n"
     ]
    },
    {
     "name": "stderr",
     "output_type": "stream",
     "text": [
      "Processing stellar types:   1%|▎                                    | 1/100 [00:01<02:05,  1.27s/it]"
     ]
    },
    {
     "name": "stdout",
     "output_type": "stream",
     "text": [
      "0: 100254161710940928, G5V --> G5V\n"
     ]
    },
    {
     "name": "stderr",
     "output_type": "stream",
     "text": [
      "Processing stellar types:   2%|▋                                    | 2/100 [00:03<03:03,  1.87s/it]"
     ]
    },
    {
     "name": "stdout",
     "output_type": "stream",
     "text": [
      "1: 100380639907919872, G5 --> G5\n"
     ]
    },
    {
     "name": "stderr",
     "output_type": "stream",
     "text": [
      "Processing stellar types:   3%|█                                    | 3/100 [00:04<02:20,  1.45s/it]"
     ]
    },
    {
     "name": "stdout",
     "output_type": "stream",
     "text": [
      "2: 100586763978318208, K5 --> K5\n",
      "No data found for stellar type (2) K5.\n"
     ]
    },
    {
     "name": "stderr",
     "output_type": "stream",
     "text": [
      "Processing stellar types:   4%|█▍                                   | 4/100 [00:05<02:07,  1.32s/it]"
     ]
    },
    {
     "name": "stdout",
     "output_type": "stream",
     "text": [
      "3: 100665065526715008, M0 --> M0\n",
      "No data found for stellar type (2) M0.\n"
     ]
    },
    {
     "name": "stderr",
     "output_type": "stream",
     "text": [
      "Processing stellar types:   5%|█▊                                   | 5/100 [00:06<01:54,  1.20s/it]"
     ]
    },
    {
     "name": "stdout",
     "output_type": "stream",
     "text": [
      "4: 101283987497967360,  --> None\n"
     ]
    },
    {
     "name": "stderr",
     "output_type": "stream",
     "text": [
      "Processing stellar types:   6%|██▏                                  | 6/100 [00:07<01:46,  1.13s/it]"
     ]
    },
    {
     "name": "stdout",
     "output_type": "stream",
     "text": [
      "5: 101309452355657216, G5IV-V --> G5IV-V\n"
     ]
    },
    {
     "name": "stderr",
     "output_type": "stream",
     "text": [
      "Processing stellar types:   7%|██▌                                  | 7/100 [00:08<01:39,  1.07s/it]"
     ]
    },
    {
     "name": "stdout",
     "output_type": "stream",
     "text": [
      "6: 101489256866566528,  --> None\n"
     ]
    },
    {
     "name": "stderr",
     "output_type": "stream",
     "text": [
      "Processing stellar types:   7%|██▌                                  | 7/100 [00:09<01:39,  1.07s/it]"
     ]
    },
    {
     "name": "stdout",
     "output_type": "stream",
     "text": [
      "7: 101612981989146752, M1V --> M1V\n",
      "Attempt 1 to query Simbad failed: 'Teff'\n",
      "Attempt 2 to query Simbad failed: 'Teff'\n"
     ]
    },
    {
     "name": "stderr",
     "output_type": "stream",
     "text": [
      "Processing stellar types:   8%|██▉                                  | 8/100 [00:20<06:42,  4.37s/it]"
     ]
    },
    {
     "name": "stdout",
     "output_type": "stream",
     "text": [
      "Attempt 3 to query Simbad failed: 'Teff'\n",
      "Failed to retrieve data from Simbad for 101612981989146752 after 3 attempts.\n",
      "Failed to retrieve data from Simbad for 101612981989146752 after 3 attempts.\n"
     ]
    },
    {
     "name": "stderr",
     "output_type": "stream",
     "text": [
      "Processing stellar types:   9%|███▎                                 | 9/100 [00:21<05:07,  3.37s/it]"
     ]
    },
    {
     "name": "stdout",
     "output_type": "stream",
     "text": [
      "8: 102082409030066560, F5V --> F5V\n"
     ]
    },
    {
     "name": "stderr",
     "output_type": "stream",
     "text": [
      "Processing stellar types:  10%|███▌                                | 10/100 [00:22<03:56,  2.63s/it]"
     ]
    },
    {
     "name": "stdout",
     "output_type": "stream",
     "text": [
      "9: 102082477749475200, F6V --> F6V\n"
     ]
    },
    {
     "name": "stderr",
     "output_type": "stream",
     "text": [
      "Processing stellar types:  10%|███▌                                | 10/100 [00:23<03:56,  2.63s/it]"
     ]
    },
    {
     "name": "stdout",
     "output_type": "stream",
     "text": [
      "10: 102162639019033600, M3.5Ve --> M3.5V\n",
      "Base Type: M3V, Next Type: M4V\n",
      "Attempt 1 to query Simbad failed: 'mass'\n",
      "Attempt 2 to query Simbad failed: 'mass'\n"
     ]
    },
    {
     "name": "stderr",
     "output_type": "stream",
     "text": [
      "Processing stellar types:  11%|███▉                                | 11/100 [00:33<07:52,  5.31s/it]"
     ]
    },
    {
     "name": "stdout",
     "output_type": "stream",
     "text": [
      "Attempt 3 to query Simbad failed: 'mass'\n",
      "Failed to retrieve data from Simbad for 102162639019033600 after 3 attempts.\n",
      "Failed to retrieve data from Simbad for 102162639019033600 after 3 attempts.\n"
     ]
    },
    {
     "name": "stderr",
     "output_type": "stream",
     "text": [
      "Processing stellar types:  12%|████▎                               | 12/100 [00:34<05:53,  4.02s/it]"
     ]
    },
    {
     "name": "stdout",
     "output_type": "stream",
     "text": [
      "11: 102648588798884736, M2.0V --> M2V\n"
     ]
    },
    {
     "name": "stderr",
     "output_type": "stream",
     "text": [
      "Processing stellar types:  13%|████▋                               | 13/100 [00:35<04:28,  3.09s/it]"
     ]
    },
    {
     "name": "stdout",
     "output_type": "stream",
     "text": [
      "12: 103124230657005568, dM3.5 --> None\n"
     ]
    },
    {
     "name": "stderr",
     "output_type": "stream",
     "text": [
      "Processing stellar types:  13%|████▋                               | 13/100 [00:36<04:28,  3.09s/it]"
     ]
    },
    {
     "name": "stdout",
     "output_type": "stream",
     "text": [
      "13: 103173223348678144, K7V --> K7V\n",
      "Attempt 1 to query Simbad failed: 'mass'\n",
      "Attempt 2 to query Simbad failed: 'mass'\n"
     ]
    },
    {
     "name": "stderr",
     "output_type": "stream",
     "text": [
      "Processing stellar types:  14%|█████                               | 14/100 [00:46<08:01,  5.59s/it]"
     ]
    },
    {
     "name": "stdout",
     "output_type": "stream",
     "text": [
      "Attempt 3 to query Simbad failed: 'mass'\n",
      "Failed to retrieve data from Simbad for 103173223348678144 after 3 attempts.\n",
      "Failed to retrieve data from Simbad for 103173223348678144 after 3 attempts.\n"
     ]
    },
    {
     "name": "stderr",
     "output_type": "stream",
     "text": [
      "Processing stellar types:  14%|█████                               | 14/100 [00:47<08:01,  5.59s/it]"
     ]
    },
    {
     "name": "stdout",
     "output_type": "stream",
     "text": [
      "14: 103363168277756928, M0V --> M0V\n",
      "Attempt 1 to query Simbad failed: 'mass'\n",
      "Attempt 2 to query Simbad failed: 'mass'\n"
     ]
    },
    {
     "name": "stderr",
     "output_type": "stream",
     "text": [
      "Processing stellar types:  15%|█████▍                              | 15/100 [00:58<10:23,  7.33s/it]"
     ]
    },
    {
     "name": "stdout",
     "output_type": "stream",
     "text": [
      "Attempt 3 to query Simbad failed: 'mass'\n",
      "Failed to retrieve data from Simbad for 103363168277756928 after 3 attempts.\n",
      "Failed to retrieve data from Simbad for 103363168277756928 after 3 attempts.\n"
     ]
    },
    {
     "name": "stderr",
     "output_type": "stream",
     "text": [
      "Processing stellar types:  16%|█████▊                              | 16/100 [00:59<07:36,  5.43s/it]"
     ]
    },
    {
     "name": "stdout",
     "output_type": "stream",
     "text": [
      "15: 103649316178540416, K2 --> K2\n"
     ]
    },
    {
     "name": "stderr",
     "output_type": "stream",
     "text": [
      "Processing stellar types:  17%|██████                              | 17/100 [01:00<05:38,  4.08s/it]"
     ]
    },
    {
     "name": "stdout",
     "output_type": "stream",
     "text": [
      "16: 103942679624729088,  --> None\n"
     ]
    },
    {
     "name": "stderr",
     "output_type": "stream",
     "text": [
      "Processing stellar types:  18%|██████▍                             | 18/100 [01:01<04:19,  3.16s/it]"
     ]
    },
    {
     "name": "stdout",
     "output_type": "stream",
     "text": [
      "17: 104453918172129792, G2V --> G2V\n"
     ]
    },
    {
     "name": "stderr",
     "output_type": "stream",
     "text": [
      "Processing stellar types:  18%|██████▍                             | 18/100 [01:02<04:19,  3.16s/it]"
     ]
    },
    {
     "name": "stdout",
     "output_type": "stream",
     "text": [
      "18: 104716907609412352, F0V --> F0V\n",
      "Attempt 1 to query Simbad failed: 'mass'\n",
      "Attempt 2 to query Simbad failed: 'mass'\n"
     ]
    },
    {
     "name": "stderr",
     "output_type": "stream",
     "text": [
      "Processing stellar types:  19%|██████▊                             | 19/100 [01:12<07:36,  5.63s/it]"
     ]
    },
    {
     "name": "stdout",
     "output_type": "stream",
     "text": [
      "Attempt 3 to query Simbad failed: 'mass'\n",
      "Failed to retrieve data from Simbad for 104716907609412352 after 3 attempts.\n",
      "Failed to retrieve data from Simbad for 104716907609412352 after 3 attempts.\n"
     ]
    },
    {
     "name": "stderr",
     "output_type": "stream",
     "text": [
      "Processing stellar types:  20%|███████▏                            | 20/100 [01:13<05:38,  4.23s/it]"
     ]
    },
    {
     "name": "stdout",
     "output_type": "stream",
     "text": [
      "19: 104717285566534016, G0 --> G0\n"
     ]
    },
    {
     "name": "stderr",
     "output_type": "stream",
     "text": [
      "Processing stellar types:  21%|███████▌                            | 21/100 [01:14<04:18,  3.27s/it]"
     ]
    },
    {
     "name": "stdout",
     "output_type": "stream",
     "text": [
      "20: 104752950974981760, G0 --> G0\n",
      "No data found for stellar type (2) G0.\n"
     ]
    },
    {
     "name": "stderr",
     "output_type": "stream",
     "text": [
      "Processing stellar types:  22%|███████▉                            | 22/100 [01:15<03:20,  2.57s/it]"
     ]
    },
    {
     "name": "stdout",
     "output_type": "stream",
     "text": [
      "21: 105332908999068032, K0V --> K0V\n"
     ]
    },
    {
     "name": "stderr",
     "output_type": "stream",
     "text": [
      "Processing stellar types:  22%|███████▉                            | 22/100 [01:16<03:20,  2.57s/it]"
     ]
    },
    {
     "name": "stdout",
     "output_type": "stream",
     "text": [
      "22: 105599987244856064, F9V --> F9V\n",
      "Attempt 1 to query Simbad failed: 'mass'\n",
      "Attempt 2 to query Simbad failed: 'mass'\n"
     ]
    },
    {
     "name": "stderr",
     "output_type": "stream",
     "text": [
      "Processing stellar types:  23%|████████▎                           | 23/100 [01:27<06:42,  5.22s/it]"
     ]
    },
    {
     "name": "stdout",
     "output_type": "stream",
     "text": [
      "Attempt 3 to query Simbad failed: 'mass'\n",
      "Failed to retrieve data from Simbad for 105599987244856064 after 3 attempts.\n",
      "Failed to retrieve data from Simbad for 105599987244856064 after 3 attempts.\n"
     ]
    },
    {
     "name": "stderr",
     "output_type": "stream",
     "text": [
      "Processing stellar types:  24%|████████▋                           | 24/100 [01:27<04:59,  3.95s/it]"
     ]
    },
    {
     "name": "stdout",
     "output_type": "stream",
     "text": [
      "23: 10584899657116672, F8 --> F8\n"
     ]
    },
    {
     "name": "stderr",
     "output_type": "stream",
     "text": [
      "Processing stellar types:  25%|█████████                           | 25/100 [01:28<03:48,  3.04s/it]"
     ]
    },
    {
     "name": "stdout",
     "output_type": "stream",
     "text": [
      "24: 105850121845012608,  --> None\n"
     ]
    },
    {
     "name": "stderr",
     "output_type": "stream",
     "text": [
      "Processing stellar types:  26%|█████████▎                          | 26/100 [01:29<03:01,  2.45s/it]"
     ]
    },
    {
     "name": "stdout",
     "output_type": "stream",
     "text": [
      "25: 106051542927008128, F6III-IV --> F6\n"
     ]
    },
    {
     "name": "stderr",
     "output_type": "stream",
     "text": [
      "Processing stellar types:  27%|█████████▋                          | 27/100 [01:30<02:25,  1.99s/it]"
     ]
    },
    {
     "name": "stdout",
     "output_type": "stream",
     "text": [
      "26: 10608573516849536, G1 --> G1\n"
     ]
    },
    {
     "name": "stderr",
     "output_type": "stream",
     "text": [
      "Processing stellar types:  28%|██████████                          | 28/100 [01:31<02:01,  1.69s/it]"
     ]
    },
    {
     "name": "stdout",
     "output_type": "stream",
     "text": [
      "27: 106774952858617088, G8 --> G8\n"
     ]
    },
    {
     "name": "stderr",
     "output_type": "stream",
     "text": [
      "Processing stellar types:  29%|██████████▍                         | 29/100 [01:32<01:45,  1.48s/it]"
     ]
    },
    {
     "name": "stdout",
     "output_type": "stream",
     "text": [
      "28: 107175480033033472,  --> None\n"
     ]
    },
    {
     "name": "stderr",
     "output_type": "stream",
     "text": [
      "Processing stellar types:  30%|██████████▊                         | 30/100 [01:33<01:35,  1.36s/it]"
     ]
    },
    {
     "name": "stdout",
     "output_type": "stream",
     "text": [
      "29: 107774198474602368, G3 --> G3\n"
     ]
    },
    {
     "name": "stderr",
     "output_type": "stream",
     "text": [
      "Processing stellar types:  31%|███████████▏                        | 31/100 [01:34<01:24,  1.23s/it]"
     ]
    },
    {
     "name": "stdout",
     "output_type": "stream",
     "text": [
      "30: 107774202769886848, F2 --> F2\n"
     ]
    },
    {
     "name": "stderr",
     "output_type": "stream",
     "text": [
      "Processing stellar types:  32%|███████████▌                        | 32/100 [01:35<01:19,  1.16s/it]"
     ]
    },
    {
     "name": "stdout",
     "output_type": "stream",
     "text": [
      "31: 108421608959951488, F0V(e) --> F0V\n"
     ]
    },
    {
     "name": "stderr",
     "output_type": "stream",
     "text": [
      "Processing stellar types:  33%|███████████▉                        | 33/100 [01:36<01:13,  1.10s/it]"
     ]
    },
    {
     "name": "stdout",
     "output_type": "stream",
     "text": [
      "32: 109051246870008448, M0 --> M0\n"
     ]
    },
    {
     "name": "stderr",
     "output_type": "stream",
     "text": [
      "Processing stellar types:  34%|████████████▏                       | 34/100 [01:37<01:12,  1.09s/it]"
     ]
    },
    {
     "name": "stdout",
     "output_type": "stream",
     "text": [
      "33: 109628013733250304, dM4.0 --> None\n"
     ]
    },
    {
     "name": "stderr",
     "output_type": "stream",
     "text": [
      "Processing stellar types:  35%|████████████▌                       | 35/100 [01:38<01:07,  1.05s/it]"
     ]
    },
    {
     "name": "stdout",
     "output_type": "stream",
     "text": [
      "34: 109931856900594432, G0 --> G0\n"
     ]
    },
    {
     "name": "stderr",
     "output_type": "stream",
     "text": [
      "Processing stellar types:  35%|████████████▌                       | 35/100 [01:39<01:07,  1.05s/it]"
     ]
    },
    {
     "name": "stdout",
     "output_type": "stream",
     "text": [
      "35: 11037726649058432, K4/5V --> K4/5V\n",
      "Base Type: K4V, Next Type: K5V\n",
      "Attempt 1 to query Simbad failed: 'mass'\n",
      "Attempt 2 to query Simbad failed: 'mass'\n"
     ]
    },
    {
     "name": "stderr",
     "output_type": "stream",
     "text": [
      "Processing stellar types:  36%|████████████▉                       | 36/100 [01:50<04:27,  4.19s/it]"
     ]
    },
    {
     "name": "stdout",
     "output_type": "stream",
     "text": [
      "Attempt 3 to query Simbad failed: 'mass'\n",
      "Failed to retrieve data from Simbad for 11037726649058432 after 3 attempts.\n",
      "Failed to retrieve data from Simbad for 11037726649058432 after 3 attempts.\n"
     ]
    },
    {
     "name": "stderr",
     "output_type": "stream",
     "text": [
      "Processing stellar types:  36%|████████████▉                       | 36/100 [01:51<04:27,  4.19s/it]"
     ]
    },
    {
     "name": "stdout",
     "output_type": "stream",
     "text": [
      "36: 111379432679196672, M2.5V --> M2.5V\n",
      "Base Type: M2V, Next Type: M3V\n",
      "Attempt 1 to query Simbad failed: 'mass'\n",
      "Attempt 2 to query Simbad failed: 'mass'\n"
     ]
    },
    {
     "name": "stderr",
     "output_type": "stream",
     "text": [
      "Processing stellar types:  37%|█████████████▎                      | 37/100 [02:01<06:39,  6.35s/it]"
     ]
    },
    {
     "name": "stdout",
     "output_type": "stream",
     "text": [
      "Attempt 3 to query Simbad failed: 'mass'\n",
      "Failed to retrieve data from Simbad for 111379432679196672 after 3 attempts.\n",
      "Failed to retrieve data from Simbad for 111379432679196672 after 3 attempts.\n"
     ]
    },
    {
     "name": "stderr",
     "output_type": "stream",
     "text": [
      "Processing stellar types:  38%|█████████████▋                      | 38/100 [02:02<04:55,  4.76s/it]"
     ]
    },
    {
     "name": "stdout",
     "output_type": "stream",
     "text": [
      "37: 11210418694164864, G0 --> G0\n"
     ]
    },
    {
     "name": "stderr",
     "output_type": "stream",
     "text": [
      "Processing stellar types:  39%|██████████████                      | 39/100 [02:03<03:41,  3.63s/it]"
     ]
    },
    {
     "name": "stdout",
     "output_type": "stream",
     "text": [
      "38: 112440873718983680, G2VFe-3 --> G2V\n"
     ]
    },
    {
     "name": "stderr",
     "output_type": "stream",
     "text": [
      "Processing stellar types:  40%|██████████████▍                     | 40/100 [02:04<02:50,  2.84s/it]"
     ]
    },
    {
     "name": "stdout",
     "output_type": "stream",
     "text": [
      "39: 114207651462714880, dM3 --> None\n"
     ]
    },
    {
     "name": "stderr",
     "output_type": "stream",
     "text": [
      "Processing stellar types:  41%|██████████████▊                     | 41/100 [02:05<02:13,  2.26s/it]"
     ]
    },
    {
     "name": "stdout",
     "output_type": "stream",
     "text": [
      "40: 114575472461716864, K1 --> K1\n"
     ]
    },
    {
     "name": "stderr",
     "output_type": "stream",
     "text": [
      "Processing stellar types:  42%|███████████████                     | 42/100 [02:06<01:49,  1.89s/it]"
     ]
    },
    {
     "name": "stdout",
     "output_type": "stream",
     "text": [
      "41: 114832620743735808, K2 --> K2\n",
      "Attempt 1 failed: index 0 is out of bounds for axis 0 with size 0\n",
      "Attempt 2 failed: index 0 is out of bounds for axis 0 with size 0\n"
     ]
    },
    {
     "name": "stderr",
     "output_type": "stream",
     "text": [
      "Processing stellar types:  43%|███████████████▍                    | 43/100 [02:17<04:22,  4.61s/it]"
     ]
    },
    {
     "name": "stdout",
     "output_type": "stream",
     "text": [
      "Attempt 3 failed: index 0 is out of bounds for axis 0 with size 0\n",
      "42: 11530342218200448, None --> None\n"
     ]
    },
    {
     "name": "stderr",
     "output_type": "stream",
     "text": [
      "Processing stellar types:  44%|███████████████▊                    | 44/100 [02:18<03:18,  3.55s/it]"
     ]
    },
    {
     "name": "stdout",
     "output_type": "stream",
     "text": [
      "43: 115311458058061440, G8V --> G8V\n"
     ]
    },
    {
     "name": "stderr",
     "output_type": "stream",
     "text": [
      "Processing stellar types:  45%|████████████████▏                   | 45/100 [02:19<02:32,  2.77s/it]"
     ]
    },
    {
     "name": "stdout",
     "output_type": "stream",
     "text": [
      "44: 1153462739205798528,  --> None\n"
     ]
    },
    {
     "name": "stderr",
     "output_type": "stream",
     "text": [
      "Processing stellar types:  46%|████████████████▌                   | 46/100 [02:21<02:16,  2.54s/it]"
     ]
    },
    {
     "name": "stdout",
     "output_type": "stream",
     "text": [
      "45: 115364234616059392, K2V --> K2V\n"
     ]
    },
    {
     "name": "stderr",
     "output_type": "stream",
     "text": [
      "Processing stellar types:  47%|████████████████▉                   | 47/100 [02:22<01:49,  2.07s/it]"
     ]
    },
    {
     "name": "stdout",
     "output_type": "stream",
     "text": [
      "46: 1154336202410495488, G5/6V --> G5/6V\n"
     ]
    },
    {
     "name": "stderr",
     "output_type": "stream",
     "text": [
      "Processing stellar types:  47%|████████████████▉                   | 47/100 [02:23<01:49,  2.07s/it]"
     ]
    },
    {
     "name": "stdout",
     "output_type": "stream",
     "text": [
      "47: 1154866579332084992, M2V --> M2V\n",
      "Attempt 1 to query Simbad failed: 'Teff'\n",
      "Attempt 2 to query Simbad failed: 'Teff'\n"
     ]
    },
    {
     "name": "stderr",
     "output_type": "stream",
     "text": [
      "Processing stellar types:  48%|█████████████████▎                  | 48/100 [02:34<04:13,  4.88s/it]"
     ]
    },
    {
     "name": "stdout",
     "output_type": "stream",
     "text": [
      "Attempt 3 to query Simbad failed: 'Teff'\n",
      "Failed to retrieve data from Simbad for 1154866579332084992 after 3 attempts.\n",
      "Failed to retrieve data from Simbad for 1154866579332084992 after 3 attempts.\n"
     ]
    },
    {
     "name": "stderr",
     "output_type": "stream",
     "text": [
      "Processing stellar types:  48%|█████████████████▎                  | 48/100 [02:35<04:13,  4.88s/it]"
     ]
    },
    {
     "name": "stdout",
     "output_type": "stream",
     "text": [
      "48: 1155276250492687616, M2V --> M2V\n",
      "Attempt 1 to query Simbad failed: 'mass'\n",
      "Attempt 2 to query Simbad failed: 'mass'\n"
     ]
    },
    {
     "name": "stderr",
     "output_type": "stream",
     "text": [
      "Processing stellar types:  49%|█████████████████▋                  | 49/100 [02:45<05:47,  6.82s/it]"
     ]
    },
    {
     "name": "stdout",
     "output_type": "stream",
     "text": [
      "Attempt 3 to query Simbad failed: 'mass'\n",
      "Failed to retrieve data from Simbad for 1155276250492687616 after 3 attempts.\n",
      "Failed to retrieve data from Simbad for 1155276250492687616 after 3 attempts.\n"
     ]
    },
    {
     "name": "stderr",
     "output_type": "stream",
     "text": [
      "Processing stellar types:  49%|█████████████████▋                  | 49/100 [02:46<05:47,  6.82s/it]"
     ]
    },
    {
     "name": "stdout",
     "output_type": "stream",
     "text": [
      "49: 1156350542072311936, K2V --> K2V\n",
      "Attempt 1 to query Simbad failed: 'Teff'\n",
      "Attempt 2 to query Simbad failed: 'Teff'\n"
     ]
    },
    {
     "name": "stderr",
     "output_type": "stream",
     "text": [
      "Processing stellar types:  50%|██████████████████                  | 50/100 [02:56<06:50,  8.21s/it]"
     ]
    },
    {
     "name": "stdout",
     "output_type": "stream",
     "text": [
      "Attempt 3 to query Simbad failed: 'Teff'\n",
      "Failed to retrieve data from Simbad for 1156350542072311936 after 3 attempts.\n",
      "Failed to retrieve data from Simbad for 1156350542072311936 after 3 attempts.\n"
     ]
    },
    {
     "name": "stderr",
     "output_type": "stream",
     "text": [
      "Processing stellar types:  50%|██████████████████                  | 50/100 [02:58<06:50,  8.21s/it]"
     ]
    },
    {
     "name": "stdout",
     "output_type": "stream",
     "text": [
      "50: 1156846524895814144, K8V --> K8V\n",
      "Attempt 1 to query Simbad failed: 'Teff'\n",
      "Attempt 2 to query Simbad failed: 'Teff'\n"
     ]
    },
    {
     "name": "stderr",
     "output_type": "stream",
     "text": [
      "Processing stellar types:  51%|██████████████████▎                 | 51/100 [03:08<07:37,  9.34s/it]"
     ]
    },
    {
     "name": "stdout",
     "output_type": "stream",
     "text": [
      "Attempt 3 to query Simbad failed: 'Teff'\n",
      "Failed to retrieve data from Simbad for 1156846524895814144 after 3 attempts.\n",
      "Failed to retrieve data from Simbad for 1156846524895814144 after 3 attempts.\n"
     ]
    },
    {
     "name": "stderr",
     "output_type": "stream",
     "text": [
      "Processing stellar types:  52%|██████████████████▋                 | 52/100 [03:09<05:27,  6.82s/it]"
     ]
    },
    {
     "name": "stdout",
     "output_type": "stream",
     "text": [
      "51: 1157670986817726976, K4 --> K4\n"
     ]
    },
    {
     "name": "stderr",
     "output_type": "stream",
     "text": [
      "Processing stellar types:  53%|███████████████████                 | 53/100 [03:10<03:59,  5.09s/it]"
     ]
    },
    {
     "name": "stdout",
     "output_type": "stream",
     "text": [
      "52: 1157737335472646016, F7/8V --> F7/8V\n"
     ]
    },
    {
     "name": "stderr",
     "output_type": "stream",
     "text": [
      "Processing stellar types:  53%|███████████████████                 | 53/100 [03:11<03:59,  5.09s/it]"
     ]
    },
    {
     "name": "stdout",
     "output_type": "stream",
     "text": [
      "53: 1158184012071254400, K6V --> K6V\n",
      "Attempt 1 to query Simbad failed: 'mass'\n",
      "Attempt 2 to query Simbad failed: 'mass'\n"
     ]
    },
    {
     "name": "stderr",
     "output_type": "stream",
     "text": [
      "Processing stellar types:  54%|███████████████████▍                | 54/100 [03:22<05:20,  6.98s/it]"
     ]
    },
    {
     "name": "stdout",
     "output_type": "stream",
     "text": [
      "Attempt 3 to query Simbad failed: 'mass'\n",
      "Failed to retrieve data from Simbad for 1158184012071254400 after 3 attempts.\n",
      "Failed to retrieve data from Simbad for 1158184012071254400 after 3 attempts.\n"
     ]
    },
    {
     "name": "stderr",
     "output_type": "stream",
     "text": [
      "Processing stellar types:  55%|███████████████████▊                | 55/100 [03:23<03:52,  5.17s/it]"
     ]
    },
    {
     "name": "stdout",
     "output_type": "stream",
     "text": [
      "54: 1158503591997923072, dM1.5 --> None\n"
     ]
    },
    {
     "name": "stderr",
     "output_type": "stream",
     "text": [
      "Processing stellar types:  55%|███████████████████▊                | 55/100 [03:24<03:52,  5.17s/it]"
     ]
    },
    {
     "name": "stdout",
     "output_type": "stream",
     "text": [
      "55: 1159380486880813952, K5V --> K5V\n",
      "Attempt 1 to query Simbad failed: 'Teff'\n",
      "Attempt 2 to query Simbad failed: 'Teff'\n"
     ]
    }
   ],
   "source": [
    "processor = CatalogProcessor(\n",
    "    celesta_path ='../data/Catalogue_CELESTA.txt',\n",
    "    stellar_catalog_path ='../data/Catalogue_V_117A_table1.txt'\n",
    ")\n",
    "df_consolidated = processor.process_catalogs(consolidated_results)"
   ]
  },
  {
   "cell_type": "code",
   "execution_count": 39,
   "id": "5a5a1f22",
   "metadata": {},
   "outputs": [
    {
     "data": {
      "text/plain": [
       "('G5V', 'G5V')"
      ]
     },
     "execution_count": 39,
     "metadata": {},
     "output_type": "execute_result"
    }
   ],
   "source": [
    "get_stellar_type('Gaia DR3 100254161710940928')"
   ]
  },
  {
   "cell_type": "code",
   "execution_count": null,
   "id": "6f294995",
   "metadata": {},
   "outputs": [],
   "source": []
  }
 ],
 "metadata": {
  "kernelspec": {
   "display_name": "2ES",
   "language": "python",
   "name": "python3"
  },
  "language_info": {
   "codemirror_mode": {
    "name": "ipython",
    "version": 3
   },
   "file_extension": ".py",
   "mimetype": "text/x-python",
   "name": "python",
   "nbconvert_exporter": "python",
   "pygments_lexer": "ipython3",
   "version": "3.13.2"
  }
 },
 "nbformat": 4,
 "nbformat_minor": 5
}
